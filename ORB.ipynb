{
 "cells": [
  {
   "cell_type": "code",
   "execution_count": 1,
   "id": "507049a6",
   "metadata": {},
   "outputs": [],
   "source": [
    "import numpy as np\n",
    "import cv2"
   ]
  },
  {
   "cell_type": "code",
   "execution_count": 3,
   "id": "b10047c5",
   "metadata": {},
   "outputs": [],
   "source": [
    "# Read the query image as query_img\n",
    "# and train image This query image\n",
    "# is what you need to find in train image\n",
    "# Save it in the same directory\n",
    "# with the name image.jpg\n",
    "query_img = cv2.imread('foot-annotated-x-ray-2.jpg')\n",
    "train_img = cv2.imread('train.jpg')"
   ]
  },
  {
   "cell_type": "code",
   "execution_count": 4,
   "id": "bcd85f11",
   "metadata": {},
   "outputs": [],
   "source": [
    "# Convert it to grayscale\n",
    "query_img_bw = cv2.cvtColor(query_img,cv2.COLOR_BGR2GRAY)\n",
    "train_img_bw = cv2.cvtColor(train_img, cv2.COLOR_BGR2GRAY)"
   ]
  },
  {
   "cell_type": "code",
   "execution_count": 5,
   "id": "3cccc9fb",
   "metadata": {},
   "outputs": [],
   "source": [
    "# Initialize the ORB detector algorithm\n",
    "orb = cv2.ORB_create()"
   ]
  },
  {
   "cell_type": "code",
   "execution_count": 6,
   "id": "6f1f3701",
   "metadata": {},
   "outputs": [],
   "source": [
    "# Now detect the keypoints and compute\n",
    "# the descriptors for the query image\n",
    "# and train image\n",
    "queryKeypoints, queryDescriptors = orb.detectAndCompute(query_img_bw,None)\n",
    "trainKeypoints, trainDescriptors = orb.detectAndCompute(train_img_bw,None)"
   ]
  },
  {
   "cell_type": "code",
   "execution_count": 7,
   "id": "016a4860",
   "metadata": {},
   "outputs": [],
   "source": [
    "# Initialize the Matcher for matching\n",
    "# the keypoints and then match the\n",
    "# keypoints\n",
    "matcher = cv2.BFMatcher()\n",
    "matches = matcher.match(queryDescriptors,trainDescriptors)"
   ]
  },
  {
   "cell_type": "code",
   "execution_count": 8,
   "id": "c9144120",
   "metadata": {},
   "outputs": [],
   "source": [
    "# draw the matches to the final image\n",
    "# containing both the images the drawMatches()\n",
    "# function takes both images and keypoints\n",
    "# and outputs the matched query image with\n",
    "# its train image\n",
    "final_img = cv2.drawMatches(query_img, queryKeypoints,\n",
    "train_img, trainKeypoints, matches[:20],None)"
   ]
  },
  {
   "cell_type": "code",
   "execution_count": 9,
   "id": "96fdd21a",
   "metadata": {},
   "outputs": [
    {
     "data": {
      "text/plain": [
       "-1"
      ]
     },
     "execution_count": 9,
     "metadata": {},
     "output_type": "execute_result"
    }
   ],
   "source": [
    "final_img = cv2.resize(final_img, (1000,650))\n",
    "\n",
    "# Show the final image\n",
    "cv2.imshow(\"Matches\", final_img)\n",
    "cv2.waitKey(3000)"
   ]
  },
  {
   "cell_type": "code",
   "execution_count": null,
   "id": "4c9064dd",
   "metadata": {},
   "outputs": [],
   "source": []
  }
 ],
 "metadata": {
  "kernelspec": {
   "display_name": "Python 3 (ipykernel)",
   "language": "python",
   "name": "python3"
  },
  "language_info": {
   "codemirror_mode": {
    "name": "ipython",
    "version": 3
   },
   "file_extension": ".py",
   "mimetype": "text/x-python",
   "name": "python",
   "nbconvert_exporter": "python",
   "pygments_lexer": "ipython3",
   "version": "3.11.1"
  }
 },
 "nbformat": 4,
 "nbformat_minor": 5
}
